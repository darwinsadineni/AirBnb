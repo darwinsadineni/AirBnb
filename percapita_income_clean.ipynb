{
 "cells": [
  {
   "cell_type": "markdown",
   "id": "0cce59c1",
   "metadata": {},
   "source": [
    "# Data Preprocessing "
   ]
  },
  {
   "cell_type": "code",
   "execution_count": 1,
   "id": "4daa2d2a",
   "metadata": {},
   "outputs": [],
   "source": [
    "import pandas as pd \n",
    "import numpy as np\n"
   ]
  },
  {
   "cell_type": "code",
   "execution_count": 2,
   "id": "c42e23aa",
   "metadata": {},
   "outputs": [],
   "source": [
    "data = pd.read_csv('/Users/ds/Desktop/Projects/ISM/Data/counties_per_capita_income.csv')"
   ]
  },
  {
   "cell_type": "code",
   "execution_count": 3,
   "id": "b8671dc2",
   "metadata": {},
   "outputs": [
    {
     "data": {
      "text/html": [
       "<div>\n",
       "<style scoped>\n",
       "    .dataframe tbody tr th:only-of-type {\n",
       "        vertical-align: middle;\n",
       "    }\n",
       "\n",
       "    .dataframe tbody tr th {\n",
       "        vertical-align: top;\n",
       "    }\n",
       "\n",
       "    .dataframe thead th {\n",
       "        text-align: right;\n",
       "    }\n",
       "</style>\n",
       "<table border=\"1\" class=\"dataframe\">\n",
       "  <thead>\n",
       "    <tr style=\"text-align: right;\">\n",
       "      <th></th>\n",
       "      <th>county</th>\n",
       "      <th>states</th>\n",
       "      <th>pci</th>\n",
       "      <th>household_income</th>\n",
       "      <th>family_income</th>\n",
       "      <th>population</th>\n",
       "      <th>num_of_households</th>\n",
       "    </tr>\n",
       "  </thead>\n",
       "  <tbody>\n",
       "    <tr>\n",
       "      <th>0</th>\n",
       "      <td>New York County</td>\n",
       "      <td>New York</td>\n",
       "      <td>$76,592</td>\n",
       "      <td>$69,659</td>\n",
       "      <td>$86,553</td>\n",
       "      <td>1,628,706</td>\n",
       "      <td>759,460</td>\n",
       "    </tr>\n",
       "    <tr>\n",
       "      <th>1</th>\n",
       "      <td>Arlington</td>\n",
       "      <td>Virginia</td>\n",
       "      <td>$62,018</td>\n",
       "      <td>$103,208</td>\n",
       "      <td>$139,244</td>\n",
       "      <td>214,861</td>\n",
       "      <td>94,454</td>\n",
       "    </tr>\n",
       "    <tr>\n",
       "      <th>2</th>\n",
       "      <td>Falls Church City</td>\n",
       "      <td>Virginia</td>\n",
       "      <td>$59,088</td>\n",
       "      <td>$120,000</td>\n",
       "      <td>$152,857</td>\n",
       "      <td>12,731</td>\n",
       "      <td>5,020</td>\n",
       "    </tr>\n",
       "    <tr>\n",
       "      <th>3</th>\n",
       "      <td>Marin</td>\n",
       "      <td>California</td>\n",
       "      <td>$56,791</td>\n",
       "      <td>$90,839</td>\n",
       "      <td>$117,357</td>\n",
       "      <td>254,643</td>\n",
       "      <td>102,912</td>\n",
       "    </tr>\n",
       "    <tr>\n",
       "      <th>4</th>\n",
       "      <td>Santa Clara</td>\n",
       "      <td>California</td>\n",
       "      <td>$56,248</td>\n",
       "      <td>$124,055</td>\n",
       "      <td>$124,055</td>\n",
       "      <td>1,927,852</td>\n",
       "      <td>640,215</td>\n",
       "    </tr>\n",
       "  </tbody>\n",
       "</table>\n",
       "</div>"
      ],
      "text/plain": [
       "              county      states      pci household_income family_income  \\\n",
       "0    New York County    New York  $76,592          $69,659       $86,553   \n",
       "1          Arlington    Virginia  $62,018         $103,208      $139,244   \n",
       "2  Falls Church City    Virginia  $59,088         $120,000      $152,857   \n",
       "3              Marin  California  $56,791          $90,839      $117,357   \n",
       "4        Santa Clara  California  $56,248         $124,055      $124,055   \n",
       "\n",
       "  population num_of_households  \n",
       "0  1,628,706           759,460  \n",
       "1    214,861            94,454  \n",
       "2     12,731             5,020  \n",
       "3    254,643           102,912  \n",
       "4  1,927,852           640,215  "
      ]
     },
     "execution_count": 3,
     "metadata": {},
     "output_type": "execute_result"
    }
   ],
   "source": [
    "data.head()"
   ]
  },
  {
   "cell_type": "code",
   "execution_count": 3,
   "id": "99c5e4c5",
   "metadata": {},
   "outputs": [
    {
     "data": {
      "text/html": [
       "<div>\n",
       "<style scoped>\n",
       "    .dataframe tbody tr th:only-of-type {\n",
       "        vertical-align: middle;\n",
       "    }\n",
       "\n",
       "    .dataframe tbody tr th {\n",
       "        vertical-align: top;\n",
       "    }\n",
       "\n",
       "    .dataframe thead th {\n",
       "        text-align: right;\n",
       "    }\n",
       "</style>\n",
       "<table border=\"1\" class=\"dataframe\">\n",
       "  <thead>\n",
       "    <tr style=\"text-align: right;\">\n",
       "      <th></th>\n",
       "      <th>county</th>\n",
       "      <th>states</th>\n",
       "      <th>pci</th>\n",
       "      <th>household_income</th>\n",
       "      <th>family_income</th>\n",
       "      <th>population</th>\n",
       "      <th>num_of_households</th>\n",
       "    </tr>\n",
       "  </thead>\n",
       "  <tbody>\n",
       "    <tr>\n",
       "      <th>0</th>\n",
       "      <td>New York County</td>\n",
       "      <td>New York</td>\n",
       "      <td>$76,592</td>\n",
       "      <td>$69,659</td>\n",
       "      <td>$86,553</td>\n",
       "      <td>1,628,706</td>\n",
       "      <td>759,460</td>\n",
       "    </tr>\n",
       "    <tr>\n",
       "      <th>1</th>\n",
       "      <td>Arlington</td>\n",
       "      <td>Virginia</td>\n",
       "      <td>$62,018</td>\n",
       "      <td>$103,208</td>\n",
       "      <td>$139,244</td>\n",
       "      <td>214,861</td>\n",
       "      <td>94,454</td>\n",
       "    </tr>\n",
       "    <tr>\n",
       "      <th>2</th>\n",
       "      <td>Falls Church City</td>\n",
       "      <td>Virginia</td>\n",
       "      <td>$59,088</td>\n",
       "      <td>$120,000</td>\n",
       "      <td>$152,857</td>\n",
       "      <td>12,731</td>\n",
       "      <td>5,020</td>\n",
       "    </tr>\n",
       "    <tr>\n",
       "      <th>3</th>\n",
       "      <td>Marin</td>\n",
       "      <td>California</td>\n",
       "      <td>$56,791</td>\n",
       "      <td>$90,839</td>\n",
       "      <td>$117,357</td>\n",
       "      <td>254,643</td>\n",
       "      <td>102,912</td>\n",
       "    </tr>\n",
       "    <tr>\n",
       "      <th>4</th>\n",
       "      <td>Santa Clara</td>\n",
       "      <td>California</td>\n",
       "      <td>$56,248</td>\n",
       "      <td>$124,055</td>\n",
       "      <td>$124,055</td>\n",
       "      <td>1,927,852</td>\n",
       "      <td>640,215</td>\n",
       "    </tr>\n",
       "  </tbody>\n",
       "</table>\n",
       "</div>"
      ],
      "text/plain": [
       "              county      states      pci household_income family_income  \\\n",
       "0    New York County    New York  $76,592          $69,659       $86,553   \n",
       "1          Arlington    Virginia  $62,018         $103,208      $139,244   \n",
       "2  Falls Church City    Virginia  $59,088         $120,000      $152,857   \n",
       "3              Marin  California  $56,791          $90,839      $117,357   \n",
       "4        Santa Clara  California  $56,248         $124,055      $124,055   \n",
       "\n",
       "  population num_of_households  \n",
       "0  1,628,706           759,460  \n",
       "1    214,861            94,454  \n",
       "2     12,731             5,020  \n",
       "3    254,643           102,912  \n",
       "4  1,927,852           640,215  "
      ]
     },
     "execution_count": 3,
     "metadata": {},
     "output_type": "execute_result"
    }
   ],
   "source": [
    "data.head()"
   ]
  },
  {
   "cell_type": "code",
   "execution_count": null,
   "id": "b9c65080",
   "metadata": {},
   "outputs": [],
   "source": []
  },
  {
   "cell_type": "code",
   "execution_count": 4,
   "id": "00ac9ebd",
   "metadata": {},
   "outputs": [
    {
     "data": {
      "text/plain": [
       "(3231, 7)"
      ]
     },
     "execution_count": 4,
     "metadata": {},
     "output_type": "execute_result"
    }
   ],
   "source": [
    "data.shape"
   ]
  },
  {
   "cell_type": "code",
   "execution_count": 5,
   "id": "81c93a4b",
   "metadata": {},
   "outputs": [],
   "source": [
    "new_data=data.drop_duplicates()"
   ]
  },
  {
   "cell_type": "code",
   "execution_count": 6,
   "id": "19c2d143",
   "metadata": {},
   "outputs": [
    {
     "data": {
      "text/plain": [
       "(3231, 7)"
      ]
     },
     "execution_count": 6,
     "metadata": {},
     "output_type": "execute_result"
    }
   ],
   "source": [
    "new_data.shape"
   ]
  },
  {
   "cell_type": "code",
   "execution_count": 7,
   "id": "0acb6422",
   "metadata": {},
   "outputs": [
    {
     "data": {
      "text/plain": [
       "county               object\n",
       "states               object\n",
       "pci                  object\n",
       "household_income     object\n",
       "family_income        object\n",
       "population           object\n",
       "num_of_households    object\n",
       "dtype: object"
      ]
     },
     "execution_count": 7,
     "metadata": {},
     "output_type": "execute_result"
    }
   ],
   "source": [
    "new_data.dtypes"
   ]
  },
  {
   "cell_type": "markdown",
   "id": "f72e9e1b",
   "metadata": {},
   "source": [
    "## Remove heading and tailing spaces"
   ]
  },
  {
   "cell_type": "code",
   "execution_count": 12,
   "id": "1dc51731",
   "metadata": {},
   "outputs": [],
   "source": [
    "new_data_2 = new_data.apply(lambda x: x.str.strip() if x.dtype == \"object\" else x)\n"
   ]
  },
  {
   "cell_type": "code",
   "execution_count": 13,
   "id": "6a43eb2f",
   "metadata": {},
   "outputs": [
    {
     "data": {
      "text/html": [
       "<div>\n",
       "<style scoped>\n",
       "    .dataframe tbody tr th:only-of-type {\n",
       "        vertical-align: middle;\n",
       "    }\n",
       "\n",
       "    .dataframe tbody tr th {\n",
       "        vertical-align: top;\n",
       "    }\n",
       "\n",
       "    .dataframe thead th {\n",
       "        text-align: right;\n",
       "    }\n",
       "</style>\n",
       "<table border=\"1\" class=\"dataframe\">\n",
       "  <thead>\n",
       "    <tr style=\"text-align: right;\">\n",
       "      <th></th>\n",
       "      <th>county</th>\n",
       "      <th>states</th>\n",
       "      <th>pci</th>\n",
       "      <th>household_income</th>\n",
       "      <th>family_income</th>\n",
       "      <th>population</th>\n",
       "      <th>num_of_households</th>\n",
       "    </tr>\n",
       "  </thead>\n",
       "  <tbody>\n",
       "    <tr>\n",
       "      <th>0</th>\n",
       "      <td>New York County</td>\n",
       "      <td>New York</td>\n",
       "      <td>$76,592</td>\n",
       "      <td>$69,659</td>\n",
       "      <td>$86,553</td>\n",
       "      <td>1,628,706</td>\n",
       "      <td>759,460</td>\n",
       "    </tr>\n",
       "    <tr>\n",
       "      <th>1</th>\n",
       "      <td>Arlington</td>\n",
       "      <td>Virginia</td>\n",
       "      <td>$62,018</td>\n",
       "      <td>$103,208</td>\n",
       "      <td>$139,244</td>\n",
       "      <td>214,861</td>\n",
       "      <td>94,454</td>\n",
       "    </tr>\n",
       "    <tr>\n",
       "      <th>2</th>\n",
       "      <td>Falls Church City</td>\n",
       "      <td>Virginia</td>\n",
       "      <td>$59,088</td>\n",
       "      <td>$120,000</td>\n",
       "      <td>$152,857</td>\n",
       "      <td>12,731</td>\n",
       "      <td>5,020</td>\n",
       "    </tr>\n",
       "    <tr>\n",
       "      <th>3</th>\n",
       "      <td>Marin</td>\n",
       "      <td>California</td>\n",
       "      <td>$56,791</td>\n",
       "      <td>$90,839</td>\n",
       "      <td>$117,357</td>\n",
       "      <td>254,643</td>\n",
       "      <td>102,912</td>\n",
       "    </tr>\n",
       "    <tr>\n",
       "      <th>4</th>\n",
       "      <td>Santa Clara</td>\n",
       "      <td>California</td>\n",
       "      <td>$56,248</td>\n",
       "      <td>$124,055</td>\n",
       "      <td>$124,055</td>\n",
       "      <td>1,927,852</td>\n",
       "      <td>640,215</td>\n",
       "    </tr>\n",
       "  </tbody>\n",
       "</table>\n",
       "</div>"
      ],
      "text/plain": [
       "              county      states      pci household_income family_income  \\\n",
       "0    New York County    New York  $76,592          $69,659       $86,553   \n",
       "1          Arlington    Virginia  $62,018         $103,208      $139,244   \n",
       "2  Falls Church City    Virginia  $59,088         $120,000      $152,857   \n",
       "3              Marin  California  $56,791          $90,839      $117,357   \n",
       "4        Santa Clara  California  $56,248         $124,055      $124,055   \n",
       "\n",
       "  population num_of_households  \n",
       "0  1,628,706           759,460  \n",
       "1    214,861            94,454  \n",
       "2     12,731             5,020  \n",
       "3    254,643           102,912  \n",
       "4  1,927,852           640,215  "
      ]
     },
     "execution_count": 13,
     "metadata": {},
     "output_type": "execute_result"
    }
   ],
   "source": [
    "new_data_2.head()"
   ]
  },
  {
   "cell_type": "code",
   "execution_count": 14,
   "id": "ae989d9d",
   "metadata": {},
   "outputs": [
    {
     "data": {
      "text/plain": [
       "county               object\n",
       "states               object\n",
       "pci                  object\n",
       "household_income     object\n",
       "family_income        object\n",
       "population           object\n",
       "num_of_households    object\n",
       "dtype: object"
      ]
     },
     "execution_count": 14,
     "metadata": {},
     "output_type": "execute_result"
    }
   ],
   "source": [
    "new_data_2.dtypes"
   ]
  },
  {
   "cell_type": "code",
   "execution_count": 15,
   "id": "0f17a8ec",
   "metadata": {},
   "outputs": [],
   "source": [
    "new_data_2.to_csv('/Users/ds/Desktop/Projects/ISM/Clean_data/percapita_income_clean.csv')"
   ]
  },
  {
   "cell_type": "code",
   "execution_count": null,
   "id": "ad474317",
   "metadata": {},
   "outputs": [],
   "source": []
  },
  {
   "cell_type": "code",
   "execution_count": null,
   "id": "870ce24f",
   "metadata": {},
   "outputs": [],
   "source": []
  }
 ],
 "metadata": {
  "kernelspec": {
   "display_name": "Python 3 (ipykernel)",
   "language": "python",
   "name": "python3"
  },
  "language_info": {
   "codemirror_mode": {
    "name": "ipython",
    "version": 3
   },
   "file_extension": ".py",
   "mimetype": "text/x-python",
   "name": "python",
   "nbconvert_exporter": "python",
   "pygments_lexer": "ipython3",
   "version": "3.11.3"
  }
 },
 "nbformat": 4,
 "nbformat_minor": 5
}
